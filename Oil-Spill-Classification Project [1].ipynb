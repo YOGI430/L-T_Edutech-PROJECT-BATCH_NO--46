{
 "cells": [
  {
   "cell_type": "code",
   "execution_count": 1,
   "id": "7f96241c",
   "metadata": {
    "_cell_guid": "b1076dfc-b9ad-4769-8c92-a6c4dae69d19",
    "_uuid": "8f2839f25d086af736a60e9eeb907d3b93b6e0e5",
    "execution": {
     "iopub.execute_input": "2022-12-13T13:02:12.513974Z",
     "iopub.status.busy": "2022-12-13T13:02:12.513307Z",
     "iopub.status.idle": "2022-12-13T13:02:12.536065Z",
     "shell.execute_reply": "2022-12-13T13:02:12.534833Z"
    },
    "papermill": {
     "duration": 0.035744,
     "end_time": "2022-12-13T13:02:12.538730",
     "exception": false,
     "start_time": "2022-12-13T13:02:12.502986",
     "status": "completed"
    },
    "tags": []
   },
   "outputs": [
    {
     "name": "stdout",
     "output_type": "stream",
     "text": [
      "/kaggle/input/oil-spill-detection/oil_spill.csv\n"
     ]
    }
   ],
   "source": [
    "import numpy as np\n",
    "import pandas as pd \n",
    "\n",
    "import os\n",
    "for dirname, _, filenames in os.walk('/kaggle/input'):\n",
    "    for filename in filenames:\n",
    "        print(os.path.join(dirname, filename))\n",
    "\n"
   ]
  },
  {
   "cell_type": "code",
   "execution_count": 2,
   "id": "a88b3033",
   "metadata": {
    "execution": {
     "iopub.execute_input": "2022-12-13T13:02:12.577262Z",
     "iopub.status.busy": "2022-12-13T13:02:12.576491Z",
     "iopub.status.idle": "2022-12-13T13:02:12.644905Z",
     "shell.execute_reply": "2022-12-13T13:02:12.643770Z"
    },
    "papermill": {
     "duration": 0.078133,
     "end_time": "2022-12-13T13:02:12.647319",
     "exception": false,
     "start_time": "2022-12-13T13:02:12.569186",
     "status": "completed"
    },
    "tags": []
   },
   "outputs": [
    {
     "data": {
      "text/html": [
       "<div>\n",
       "<style scoped>\n",
       "    .dataframe tbody tr th:only-of-type {\n",
       "        vertical-align: middle;\n",
       "    }\n",
       "\n",
       "    .dataframe tbody tr th {\n",
       "        vertical-align: top;\n",
       "    }\n",
       "\n",
       "    .dataframe thead th {\n",
       "        text-align: right;\n",
       "    }\n",
       "</style>\n",
       "<table border=\"1\" class=\"dataframe\">\n",
       "  <thead>\n",
       "    <tr style=\"text-align: right;\">\n",
       "      <th></th>\n",
       "      <th>f_1</th>\n",
       "      <th>f_2</th>\n",
       "      <th>f_3</th>\n",
       "      <th>f_4</th>\n",
       "      <th>f_5</th>\n",
       "      <th>f_6</th>\n",
       "      <th>f_7</th>\n",
       "      <th>f_8</th>\n",
       "      <th>f_9</th>\n",
       "      <th>f_10</th>\n",
       "      <th>...</th>\n",
       "      <th>f_41</th>\n",
       "      <th>f_42</th>\n",
       "      <th>f_43</th>\n",
       "      <th>f_44</th>\n",
       "      <th>f_45</th>\n",
       "      <th>f_46</th>\n",
       "      <th>f_47</th>\n",
       "      <th>f_48</th>\n",
       "      <th>f_49</th>\n",
       "      <th>target</th>\n",
       "    </tr>\n",
       "  </thead>\n",
       "  <tbody>\n",
       "    <tr>\n",
       "      <th>0</th>\n",
       "      <td>1</td>\n",
       "      <td>2558</td>\n",
       "      <td>1506.09</td>\n",
       "      <td>456.63</td>\n",
       "      <td>90</td>\n",
       "      <td>6395000</td>\n",
       "      <td>40.88</td>\n",
       "      <td>7.89</td>\n",
       "      <td>29780.0</td>\n",
       "      <td>0.19</td>\n",
       "      <td>...</td>\n",
       "      <td>2850.00</td>\n",
       "      <td>1000.00</td>\n",
       "      <td>763.16</td>\n",
       "      <td>135.46</td>\n",
       "      <td>3.73</td>\n",
       "      <td>0</td>\n",
       "      <td>33243.19</td>\n",
       "      <td>65.74</td>\n",
       "      <td>7.95</td>\n",
       "      <td>1</td>\n",
       "    </tr>\n",
       "    <tr>\n",
       "      <th>1</th>\n",
       "      <td>2</td>\n",
       "      <td>22325</td>\n",
       "      <td>79.11</td>\n",
       "      <td>841.03</td>\n",
       "      <td>180</td>\n",
       "      <td>55812500</td>\n",
       "      <td>51.11</td>\n",
       "      <td>1.21</td>\n",
       "      <td>61900.0</td>\n",
       "      <td>0.02</td>\n",
       "      <td>...</td>\n",
       "      <td>5750.00</td>\n",
       "      <td>11500.00</td>\n",
       "      <td>9593.48</td>\n",
       "      <td>1648.80</td>\n",
       "      <td>0.60</td>\n",
       "      <td>0</td>\n",
       "      <td>51572.04</td>\n",
       "      <td>65.73</td>\n",
       "      <td>6.26</td>\n",
       "      <td>0</td>\n",
       "    </tr>\n",
       "    <tr>\n",
       "      <th>2</th>\n",
       "      <td>3</td>\n",
       "      <td>115</td>\n",
       "      <td>1449.85</td>\n",
       "      <td>608.43</td>\n",
       "      <td>88</td>\n",
       "      <td>287500</td>\n",
       "      <td>40.42</td>\n",
       "      <td>7.34</td>\n",
       "      <td>3340.0</td>\n",
       "      <td>0.18</td>\n",
       "      <td>...</td>\n",
       "      <td>1400.00</td>\n",
       "      <td>250.00</td>\n",
       "      <td>150.00</td>\n",
       "      <td>45.13</td>\n",
       "      <td>9.33</td>\n",
       "      <td>1</td>\n",
       "      <td>31692.84</td>\n",
       "      <td>65.81</td>\n",
       "      <td>7.84</td>\n",
       "      <td>1</td>\n",
       "    </tr>\n",
       "    <tr>\n",
       "      <th>3</th>\n",
       "      <td>4</td>\n",
       "      <td>1201</td>\n",
       "      <td>1562.53</td>\n",
       "      <td>295.65</td>\n",
       "      <td>66</td>\n",
       "      <td>3002500</td>\n",
       "      <td>42.40</td>\n",
       "      <td>7.97</td>\n",
       "      <td>18030.0</td>\n",
       "      <td>0.19</td>\n",
       "      <td>...</td>\n",
       "      <td>6041.52</td>\n",
       "      <td>761.58</td>\n",
       "      <td>453.21</td>\n",
       "      <td>144.97</td>\n",
       "      <td>13.33</td>\n",
       "      <td>1</td>\n",
       "      <td>37696.21</td>\n",
       "      <td>65.67</td>\n",
       "      <td>8.07</td>\n",
       "      <td>1</td>\n",
       "    </tr>\n",
       "    <tr>\n",
       "      <th>4</th>\n",
       "      <td>5</td>\n",
       "      <td>312</td>\n",
       "      <td>950.27</td>\n",
       "      <td>440.86</td>\n",
       "      <td>37</td>\n",
       "      <td>780000</td>\n",
       "      <td>41.43</td>\n",
       "      <td>7.03</td>\n",
       "      <td>3350.0</td>\n",
       "      <td>0.17</td>\n",
       "      <td>...</td>\n",
       "      <td>1320.04</td>\n",
       "      <td>710.63</td>\n",
       "      <td>512.54</td>\n",
       "      <td>109.16</td>\n",
       "      <td>2.58</td>\n",
       "      <td>0</td>\n",
       "      <td>29038.17</td>\n",
       "      <td>65.66</td>\n",
       "      <td>7.35</td>\n",
       "      <td>0</td>\n",
       "    </tr>\n",
       "  </tbody>\n",
       "</table>\n",
       "<p>5 rows × 50 columns</p>\n",
       "</div>"
      ],
      "text/plain": [
       "   f_1    f_2      f_3     f_4  f_5       f_6    f_7   f_8      f_9  f_10  \\\n",
       "0    1   2558  1506.09  456.63   90   6395000  40.88  7.89  29780.0  0.19   \n",
       "1    2  22325    79.11  841.03  180  55812500  51.11  1.21  61900.0  0.02   \n",
       "2    3    115  1449.85  608.43   88    287500  40.42  7.34   3340.0  0.18   \n",
       "3    4   1201  1562.53  295.65   66   3002500  42.40  7.97  18030.0  0.19   \n",
       "4    5    312   950.27  440.86   37    780000  41.43  7.03   3350.0  0.17   \n",
       "\n",
       "   ...     f_41      f_42     f_43     f_44   f_45  f_46      f_47   f_48  \\\n",
       "0  ...  2850.00   1000.00   763.16   135.46   3.73     0  33243.19  65.74   \n",
       "1  ...  5750.00  11500.00  9593.48  1648.80   0.60     0  51572.04  65.73   \n",
       "2  ...  1400.00    250.00   150.00    45.13   9.33     1  31692.84  65.81   \n",
       "3  ...  6041.52    761.58   453.21   144.97  13.33     1  37696.21  65.67   \n",
       "4  ...  1320.04    710.63   512.54   109.16   2.58     0  29038.17  65.66   \n",
       "\n",
       "   f_49  target  \n",
       "0  7.95       1  \n",
       "1  6.26       0  \n",
       "2  7.84       1  \n",
       "3  8.07       1  \n",
       "4  7.35       0  \n",
       "\n",
       "[5 rows x 50 columns]"
      ]
     },
     "execution_count": 2,
     "metadata": {},
     "output_type": "execute_result"
    }
   ],
   "source": [
    "import pandas as pd\n",
    "df = pd.read_csv('/kaggle/input/oil-spill-detection/oil_spill.csv')\n",
    "df.head()"
   ]
  },
  {
   "cell_type": "code",
   "execution_count": 3,
   "id": "1f9f231d",
   "metadata": {
    "execution": {
     "iopub.execute_input": "2022-12-13T13:02:12.662049Z",
     "iopub.status.busy": "2022-12-13T13:02:12.661649Z",
     "iopub.status.idle": "2022-12-13T13:02:12.687899Z",
     "shell.execute_reply": "2022-12-13T13:02:12.686880Z"
    },
    "papermill": {
     "duration": 0.036866,
     "end_time": "2022-12-13T13:02:12.690769",
     "exception": false,
     "start_time": "2022-12-13T13:02:12.653903",
     "status": "completed"
    },
    "tags": []
   },
   "outputs": [
    {
     "name": "stdout",
     "output_type": "stream",
     "text": [
      "<class 'pandas.core.frame.DataFrame'>\n",
      "RangeIndex: 937 entries, 0 to 936\n",
      "Data columns (total 50 columns):\n",
      " #   Column  Non-Null Count  Dtype  \n",
      "---  ------  --------------  -----  \n",
      " 0   f_1     937 non-null    int64  \n",
      " 1   f_2     937 non-null    int64  \n",
      " 2   f_3     937 non-null    float64\n",
      " 3   f_4     937 non-null    float64\n",
      " 4   f_5     937 non-null    int64  \n",
      " 5   f_6     937 non-null    int64  \n",
      " 6   f_7     937 non-null    float64\n",
      " 7   f_8     937 non-null    float64\n",
      " 8   f_9     937 non-null    float64\n",
      " 9   f_10    937 non-null    float64\n",
      " 10  f_11    937 non-null    float64\n",
      " 11  f_12    937 non-null    float64\n",
      " 12  f_13    937 non-null    float64\n",
      " 13  f_14    937 non-null    float64\n",
      " 14  f_15    937 non-null    float64\n",
      " 15  f_16    937 non-null    float64\n",
      " 16  f_17    937 non-null    float64\n",
      " 17  f_18    937 non-null    float64\n",
      " 18  f_19    937 non-null    float64\n",
      " 19  f_20    937 non-null    float64\n",
      " 20  f_21    937 non-null    float64\n",
      " 21  f_22    937 non-null    float64\n",
      " 22  f_23    937 non-null    int64  \n",
      " 23  f_24    937 non-null    float64\n",
      " 24  f_25    937 non-null    float64\n",
      " 25  f_26    937 non-null    float64\n",
      " 26  f_27    937 non-null    float64\n",
      " 27  f_28    937 non-null    float64\n",
      " 28  f_29    937 non-null    float64\n",
      " 29  f_30    937 non-null    float64\n",
      " 30  f_31    937 non-null    float64\n",
      " 31  f_32    937 non-null    float64\n",
      " 32  f_33    937 non-null    float64\n",
      " 33  f_34    937 non-null    float64\n",
      " 34  f_35    937 non-null    int64  \n",
      " 35  f_36    937 non-null    int64  \n",
      " 36  f_37    937 non-null    float64\n",
      " 37  f_38    937 non-null    float64\n",
      " 38  f_39    937 non-null    int64  \n",
      " 39  f_40    937 non-null    int64  \n",
      " 40  f_41    937 non-null    float64\n",
      " 41  f_42    937 non-null    float64\n",
      " 42  f_43    937 non-null    float64\n",
      " 43  f_44    937 non-null    float64\n",
      " 44  f_45    937 non-null    float64\n",
      " 45  f_46    937 non-null    int64  \n",
      " 46  f_47    937 non-null    float64\n",
      " 47  f_48    937 non-null    float64\n",
      " 48  f_49    937 non-null    float64\n",
      " 49  target  937 non-null    int64  \n",
      "dtypes: float64(39), int64(11)\n",
      "memory usage: 366.1 KB\n"
     ]
    }
   ],
   "source": [
    "df.info()"
   ]
  },
  {
   "cell_type": "code",
   "execution_count": 4,
   "id": "1afd5594",
   "metadata": {
    "execution": {
     "iopub.execute_input": "2022-12-13T13:02:12.719782Z",
     "iopub.status.busy": "2022-12-13T13:02:12.719178Z",
     "iopub.status.idle": "2022-12-13T13:02:12.727433Z",
     "shell.execute_reply": "2022-12-13T13:02:12.726698Z"
    },
    "papermill": {
     "duration": 0.018195,
     "end_time": "2022-12-13T13:02:12.729487",
     "exception": false,
     "start_time": "2022-12-13T13:02:12.711292",
     "status": "completed"
    },
    "tags": []
   },
   "outputs": [
    {
     "data": {
      "text/plain": [
       "f_1       0\n",
       "f_2       0\n",
       "f_3       0\n",
       "f_4       0\n",
       "f_5       0\n",
       "f_6       0\n",
       "f_7       0\n",
       "f_8       0\n",
       "f_9       0\n",
       "f_10      0\n",
       "f_11      0\n",
       "f_12      0\n",
       "f_13      0\n",
       "f_14      0\n",
       "f_15      0\n",
       "f_16      0\n",
       "f_17      0\n",
       "f_18      0\n",
       "f_19      0\n",
       "f_20      0\n",
       "f_21      0\n",
       "f_22      0\n",
       "f_23      0\n",
       "f_24      0\n",
       "f_25      0\n",
       "f_26      0\n",
       "f_27      0\n",
       "f_28      0\n",
       "f_29      0\n",
       "f_30      0\n",
       "f_31      0\n",
       "f_32      0\n",
       "f_33      0\n",
       "f_34      0\n",
       "f_35      0\n",
       "f_36      0\n",
       "f_37      0\n",
       "f_38      0\n",
       "f_39      0\n",
       "f_40      0\n",
       "f_41      0\n",
       "f_42      0\n",
       "f_43      0\n",
       "f_44      0\n",
       "f_45      0\n",
       "f_46      0\n",
       "f_47      0\n",
       "f_48      0\n",
       "f_49      0\n",
       "target    0\n",
       "dtype: int64"
      ]
     },
     "execution_count": 4,
     "metadata": {},
     "output_type": "execute_result"
    }
   ],
   "source": [
    "df.isna().sum()"
   ]
  },
  {
   "cell_type": "code",
   "execution_count": 5,
   "id": "d625f397",
   "metadata": {
    "execution": {
     "iopub.execute_input": "2022-12-13T13:02:12.758381Z",
     "iopub.status.busy": "2022-12-13T13:02:12.757799Z",
     "iopub.status.idle": "2022-12-13T13:02:12.763642Z",
     "shell.execute_reply": "2022-12-13T13:02:12.762864Z"
    },
    "papermill": {
     "duration": 0.01608,
     "end_time": "2022-12-13T13:02:12.765919",
     "exception": false,
     "start_time": "2022-12-13T13:02:12.749839",
     "status": "completed"
    },
    "tags": []
   },
   "outputs": [],
   "source": [
    "X = df.drop(labels=['target'],axis=1)\n",
    "Y = df[['target']]"
   ]
  },
  {
   "cell_type": "code",
   "execution_count": 6,
   "id": "db7da3f3",
   "metadata": {
    "execution": {
     "iopub.execute_input": "2022-12-13T13:02:12.794456Z",
     "iopub.status.busy": "2022-12-13T13:02:12.793841Z",
     "iopub.status.idle": "2022-12-13T13:02:13.692375Z",
     "shell.execute_reply": "2022-12-13T13:02:13.691442Z"
    },
    "papermill": {
     "duration": 0.909409,
     "end_time": "2022-12-13T13:02:13.695101",
     "exception": false,
     "start_time": "2022-12-13T13:02:12.785692",
     "status": "completed"
    },
    "tags": []
   },
   "outputs": [],
   "source": [
    "from sklearn.preprocessing import MinMaxScaler\n",
    "mm = MinMaxScaler()\n",
    "Xnew = pd.DataFrame(mm.fit_transform(X),columns=X.columns)"
   ]
  },
  {
   "cell_type": "code",
   "execution_count": 7,
   "id": "81ef955a",
   "metadata": {
    "execution": {
     "iopub.execute_input": "2022-12-13T13:02:13.715594Z",
     "iopub.status.busy": "2022-12-13T13:02:13.715195Z",
     "iopub.status.idle": "2022-12-13T13:02:13.739660Z",
     "shell.execute_reply": "2022-12-13T13:02:13.738692Z"
    },
    "papermill": {
     "duration": 0.036293,
     "end_time": "2022-12-13T13:02:13.742556",
     "exception": false,
     "start_time": "2022-12-13T13:02:13.706263",
     "status": "completed"
    },
    "tags": []
   },
   "outputs": [
    {
     "data": {
      "text/html": [
       "<div>\n",
       "<style scoped>\n",
       "    .dataframe tbody tr th:only-of-type {\n",
       "        vertical-align: middle;\n",
       "    }\n",
       "\n",
       "    .dataframe tbody tr th {\n",
       "        vertical-align: top;\n",
       "    }\n",
       "\n",
       "    .dataframe thead th {\n",
       "        text-align: right;\n",
       "    }\n",
       "</style>\n",
       "<table border=\"1\" class=\"dataframe\">\n",
       "  <thead>\n",
       "    <tr style=\"text-align: right;\">\n",
       "      <th></th>\n",
       "      <th>f_1</th>\n",
       "      <th>f_2</th>\n",
       "      <th>f_3</th>\n",
       "      <th>f_4</th>\n",
       "      <th>f_5</th>\n",
       "      <th>f_6</th>\n",
       "      <th>f_7</th>\n",
       "      <th>f_8</th>\n",
       "      <th>f_9</th>\n",
       "      <th>f_10</th>\n",
       "      <th>...</th>\n",
       "      <th>f_40</th>\n",
       "      <th>f_41</th>\n",
       "      <th>f_42</th>\n",
       "      <th>f_43</th>\n",
       "      <th>f_44</th>\n",
       "      <th>f_45</th>\n",
       "      <th>f_46</th>\n",
       "      <th>f_47</th>\n",
       "      <th>f_48</th>\n",
       "      <th>f_49</th>\n",
       "    </tr>\n",
       "  </thead>\n",
       "  <tbody>\n",
       "    <tr>\n",
       "      <th>0</th>\n",
       "      <td>0.000000</td>\n",
       "      <td>0.078693</td>\n",
       "      <td>0.795369</td>\n",
       "      <td>0.167291</td>\n",
       "      <td>0.500000</td>\n",
       "      <td>0.088774</td>\n",
       "      <td>0.319870</td>\n",
       "      <td>0.295893</td>\n",
       "      <td>0.181873</td>\n",
       "      <td>0.236111</td>\n",
       "      <td>...</td>\n",
       "      <td>0.638298</td>\n",
       "      <td>0.238507</td>\n",
       "      <td>0.086957</td>\n",
       "      <td>0.079550</td>\n",
       "      <td>0.077489</td>\n",
       "      <td>0.048675</td>\n",
       "      <td>0.0</td>\n",
       "      <td>0.587669</td>\n",
       "      <td>0.976721</td>\n",
       "      <td>0.222222</td>\n",
       "    </tr>\n",
       "    <tr>\n",
       "      <th>1</th>\n",
       "      <td>0.002849</td>\n",
       "      <td>0.689181</td>\n",
       "      <td>0.040816</td>\n",
       "      <td>0.308430</td>\n",
       "      <td>1.000000</td>\n",
       "      <td>0.782405</td>\n",
       "      <td>0.486482</td>\n",
       "      <td>0.015926</td>\n",
       "      <td>0.382532</td>\n",
       "      <td>0.000000</td>\n",
       "      <td>...</td>\n",
       "      <td>0.638298</td>\n",
       "      <td>0.481199</td>\n",
       "      <td>1.000000</td>\n",
       "      <td>1.000000</td>\n",
       "      <td>0.943179</td>\n",
       "      <td>0.007830</td>\n",
       "      <td>0.0</td>\n",
       "      <td>0.932995</td>\n",
       "      <td>0.976393</td>\n",
       "      <td>0.046729</td>\n",
       "    </tr>\n",
       "    <tr>\n",
       "      <th>2</th>\n",
       "      <td>0.005698</td>\n",
       "      <td>0.003243</td>\n",
       "      <td>0.765631</td>\n",
       "      <td>0.223027</td>\n",
       "      <td>0.488889</td>\n",
       "      <td>0.003048</td>\n",
       "      <td>0.312378</td>\n",
       "      <td>0.272842</td>\n",
       "      <td>0.016699</td>\n",
       "      <td>0.222222</td>\n",
       "      <td>...</td>\n",
       "      <td>0.638298</td>\n",
       "      <td>0.117161</td>\n",
       "      <td>0.021739</td>\n",
       "      <td>0.015636</td>\n",
       "      <td>0.025816</td>\n",
       "      <td>0.121754</td>\n",
       "      <td>1.0</td>\n",
       "      <td>0.558460</td>\n",
       "      <td>0.979016</td>\n",
       "      <td>0.210800</td>\n",
       "    </tr>\n",
       "    <tr>\n",
       "      <th>3</th>\n",
       "      <td>0.008547</td>\n",
       "      <td>0.036783</td>\n",
       "      <td>0.825213</td>\n",
       "      <td>0.108185</td>\n",
       "      <td>0.366667</td>\n",
       "      <td>0.041157</td>\n",
       "      <td>0.344625</td>\n",
       "      <td>0.299246</td>\n",
       "      <td>0.108469</td>\n",
       "      <td>0.236111</td>\n",
       "      <td>...</td>\n",
       "      <td>0.638298</td>\n",
       "      <td>0.505595</td>\n",
       "      <td>0.066224</td>\n",
       "      <td>0.047241</td>\n",
       "      <td>0.082929</td>\n",
       "      <td>0.173953</td>\n",
       "      <td>1.0</td>\n",
       "      <td>0.671567</td>\n",
       "      <td>0.974426</td>\n",
       "      <td>0.234683</td>\n",
       "    </tr>\n",
       "    <tr>\n",
       "      <th>4</th>\n",
       "      <td>0.011396</td>\n",
       "      <td>0.009327</td>\n",
       "      <td>0.501465</td>\n",
       "      <td>0.161501</td>\n",
       "      <td>0.205556</td>\n",
       "      <td>0.009961</td>\n",
       "      <td>0.328827</td>\n",
       "      <td>0.259849</td>\n",
       "      <td>0.016761</td>\n",
       "      <td>0.208333</td>\n",
       "      <td>...</td>\n",
       "      <td>0.638298</td>\n",
       "      <td>0.110470</td>\n",
       "      <td>0.061794</td>\n",
       "      <td>0.053426</td>\n",
       "      <td>0.062444</td>\n",
       "      <td>0.033668</td>\n",
       "      <td>0.0</td>\n",
       "      <td>0.508444</td>\n",
       "      <td>0.974098</td>\n",
       "      <td>0.159917</td>\n",
       "    </tr>\n",
       "  </tbody>\n",
       "</table>\n",
       "<p>5 rows × 49 columns</p>\n",
       "</div>"
      ],
      "text/plain": [
       "        f_1       f_2       f_3       f_4       f_5       f_6       f_7  \\\n",
       "0  0.000000  0.078693  0.795369  0.167291  0.500000  0.088774  0.319870   \n",
       "1  0.002849  0.689181  0.040816  0.308430  1.000000  0.782405  0.486482   \n",
       "2  0.005698  0.003243  0.765631  0.223027  0.488889  0.003048  0.312378   \n",
       "3  0.008547  0.036783  0.825213  0.108185  0.366667  0.041157  0.344625   \n",
       "4  0.011396  0.009327  0.501465  0.161501  0.205556  0.009961  0.328827   \n",
       "\n",
       "        f_8       f_9      f_10  ...      f_40      f_41      f_42      f_43  \\\n",
       "0  0.295893  0.181873  0.236111  ...  0.638298  0.238507  0.086957  0.079550   \n",
       "1  0.015926  0.382532  0.000000  ...  0.638298  0.481199  1.000000  1.000000   \n",
       "2  0.272842  0.016699  0.222222  ...  0.638298  0.117161  0.021739  0.015636   \n",
       "3  0.299246  0.108469  0.236111  ...  0.638298  0.505595  0.066224  0.047241   \n",
       "4  0.259849  0.016761  0.208333  ...  0.638298  0.110470  0.061794  0.053426   \n",
       "\n",
       "       f_44      f_45  f_46      f_47      f_48      f_49  \n",
       "0  0.077489  0.048675   0.0  0.587669  0.976721  0.222222  \n",
       "1  0.943179  0.007830   0.0  0.932995  0.976393  0.046729  \n",
       "2  0.025816  0.121754   1.0  0.558460  0.979016  0.210800  \n",
       "3  0.082929  0.173953   1.0  0.671567  0.974426  0.234683  \n",
       "4  0.062444  0.033668   0.0  0.508444  0.974098  0.159917  \n",
       "\n",
       "[5 rows x 49 columns]"
      ]
     },
     "execution_count": 7,
     "metadata": {},
     "output_type": "execute_result"
    }
   ],
   "source": [
    "Xnew.head()"
   ]
  },
  {
   "cell_type": "code",
   "execution_count": 8,
   "id": "1b3aecce",
   "metadata": {
    "execution": {
     "iopub.execute_input": "2022-12-13T13:02:13.771569Z",
     "iopub.status.busy": "2022-12-13T13:02:13.770734Z",
     "iopub.status.idle": "2022-12-13T13:02:13.832715Z",
     "shell.execute_reply": "2022-12-13T13:02:13.831438Z"
    },
    "papermill": {
     "duration": 0.072644,
     "end_time": "2022-12-13T13:02:13.835423",
     "exception": false,
     "start_time": "2022-12-13T13:02:13.762779",
     "status": "completed"
    },
    "tags": []
   },
   "outputs": [],
   "source": [
    "from sklearn.model_selection import train_test_split\n",
    "xtrain, xtest, ytrain, ytest = train_test_split(Xnew,Y,test_size=0.2,random_state=21,\n",
    "                                                stratify = Y)"
   ]
  },
  {
   "cell_type": "code",
   "execution_count": 9,
   "id": "70d8747a",
   "metadata": {
    "execution": {
     "iopub.execute_input": "2022-12-13T13:02:13.865260Z",
     "iopub.status.busy": "2022-12-13T13:02:13.864381Z",
     "iopub.status.idle": "2022-12-13T13:02:19.797343Z",
     "shell.execute_reply": "2022-12-13T13:02:19.796114Z"
    },
    "papermill": {
     "duration": 5.944256,
     "end_time": "2022-12-13T13:02:19.800276",
     "exception": false,
     "start_time": "2022-12-13T13:02:13.856020",
     "status": "completed"
    },
    "tags": []
   },
   "outputs": [
    {
     "name": "stderr",
     "output_type": "stream",
     "text": [
      "2022-12-13 13:02:19.689158: I tensorflow/core/common_runtime/process_util.cc:146] Creating new thread pool with default inter op setting: 2. Tune using inter_op_parallelism_threads for best performance.\n"
     ]
    }
   ],
   "source": [
    "from keras.models import Sequential\n",
    "from keras.layers import Dense, Dropout\n",
    "nn = Sequential()\n",
    "nn.add(Dense(64,input_dim=xtrain.shape[1],activation='relu'))\n",
    "nn.add(Dropout(0.1))\n",
    "nn.add(Dense(64,activation='relu'))\n",
    "nn.add(Dropout(0.1))\n",
    "nn.add(Dense(64,activation='relu'))\n",
    "nn.add(Dropout(0.1))\n",
    "nn.add(Dense(64,activation='relu'))\n",
    "nn.add(Dropout(0.1))\n",
    "nn.add(Dense(1,activation='sigmoid'))"
   ]
  },
  {
   "cell_type": "code",
   "execution_count": 10,
   "id": "51fcef1b",
   "metadata": {
    "execution": {
     "iopub.execute_input": "2022-12-13T13:02:19.817092Z",
     "iopub.status.busy": "2022-12-13T13:02:19.816669Z",
     "iopub.status.idle": "2022-12-13T13:02:19.823694Z",
     "shell.execute_reply": "2022-12-13T13:02:19.822572Z"
    },
    "papermill": {
     "duration": 0.018793,
     "end_time": "2022-12-13T13:02:19.826751",
     "exception": false,
     "start_time": "2022-12-13T13:02:19.807958",
     "status": "completed"
    },
    "tags": []
   },
   "outputs": [
    {
     "name": "stdout",
     "output_type": "stream",
     "text": [
      "Model: \"sequential\"\n",
      "_________________________________________________________________\n",
      "Layer (type)                 Output Shape              Param #   \n",
      "=================================================================\n",
      "dense (Dense)                (None, 64)                3200      \n",
      "_________________________________________________________________\n",
      "dropout (Dropout)            (None, 64)                0         \n",
      "_________________________________________________________________\n",
      "dense_1 (Dense)              (None, 64)                4160      \n",
      "_________________________________________________________________\n",
      "dropout_1 (Dropout)          (None, 64)                0         \n",
      "_________________________________________________________________\n",
      "dense_2 (Dense)              (None, 64)                4160      \n",
      "_________________________________________________________________\n",
      "dropout_2 (Dropout)          (None, 64)                0         \n",
      "_________________________________________________________________\n",
      "dense_3 (Dense)              (None, 64)                4160      \n",
      "_________________________________________________________________\n",
      "dropout_3 (Dropout)          (None, 64)                0         \n",
      "_________________________________________________________________\n",
      "dense_4 (Dense)              (None, 1)                 65        \n",
      "=================================================================\n",
      "Total params: 15,745\n",
      "Trainable params: 15,745\n",
      "Non-trainable params: 0\n",
      "_________________________________________________________________\n"
     ]
    }
   ],
   "source": [
    "nn.summary()"
   ]
  },
  {
   "cell_type": "code",
   "execution_count": 11,
   "id": "1f444f4c",
   "metadata": {
    "execution": {
     "iopub.execute_input": "2022-12-13T13:02:19.843788Z",
     "iopub.status.busy": "2022-12-13T13:02:19.843347Z",
     "iopub.status.idle": "2022-12-13T13:02:24.701797Z",
     "shell.execute_reply": "2022-12-13T13:02:24.700591Z"
    },
    "papermill": {
     "duration": 4.869652,
     "end_time": "2022-12-13T13:02:24.704417",
     "exception": false,
     "start_time": "2022-12-13T13:02:19.834765",
     "status": "completed"
    },
    "tags": []
   },
   "outputs": [
    {
     "name": "stdout",
     "output_type": "stream",
     "text": [
      "Epoch 1/25\n"
     ]
    },
    {
     "name": "stderr",
     "output_type": "stream",
     "text": [
      "2022-12-13 13:02:19.950444: I tensorflow/compiler/mlir/mlir_graph_optimization_pass.cc:185] None of the MLIR Optimization Passes are enabled (registered 2)\n"
     ]
    },
    {
     "name": "stdout",
     "output_type": "stream",
     "text": [
      "24/24 [==============================] - 1s 15ms/step - loss: 0.3177 - accuracy: 0.9546 - val_loss: 0.2054 - val_accuracy: 0.9574\n",
      "Epoch 2/25\n",
      "24/24 [==============================] - 0s 5ms/step - loss: 0.1943 - accuracy: 0.9559 - val_loss: 0.1702 - val_accuracy: 0.9574\n",
      "Epoch 3/25\n",
      "24/24 [==============================] - 0s 5ms/step - loss: 0.1812 - accuracy: 0.9559 - val_loss: 0.1595 - val_accuracy: 0.9574\n",
      "Epoch 4/25\n",
      "24/24 [==============================] - 0s 5ms/step - loss: 0.1734 - accuracy: 0.9559 - val_loss: 0.1515 - val_accuracy: 0.9574\n",
      "Epoch 5/25\n",
      "24/24 [==============================] - 0s 5ms/step - loss: 0.1673 - accuracy: 0.9559 - val_loss: 0.1436 - val_accuracy: 0.9574\n",
      "Epoch 6/25\n",
      "24/24 [==============================] - 0s 5ms/step - loss: 0.1548 - accuracy: 0.9559 - val_loss: 0.1370 - val_accuracy: 0.9574\n",
      "Epoch 7/25\n",
      "24/24 [==============================] - 0s 5ms/step - loss: 0.1574 - accuracy: 0.9559 - val_loss: 0.1187 - val_accuracy: 0.9574\n",
      "Epoch 8/25\n",
      "24/24 [==============================] - 0s 5ms/step - loss: 0.1447 - accuracy: 0.9559 - val_loss: 0.1266 - val_accuracy: 0.9574\n",
      "Epoch 9/25\n",
      "24/24 [==============================] - 0s 5ms/step - loss: 0.1355 - accuracy: 0.9559 - val_loss: 0.1009 - val_accuracy: 0.9574\n",
      "Epoch 10/25\n",
      "24/24 [==============================] - 0s 11ms/step - loss: 0.1229 - accuracy: 0.9559 - val_loss: 0.0858 - val_accuracy: 0.9574\n",
      "Epoch 11/25\n",
      "24/24 [==============================] - 0s 7ms/step - loss: 0.1243 - accuracy: 0.9559 - val_loss: 0.0837 - val_accuracy: 0.9574\n",
      "Epoch 12/25\n",
      "24/24 [==============================] - 0s 13ms/step - loss: 0.1103 - accuracy: 0.9559 - val_loss: 0.0839 - val_accuracy: 0.9574\n",
      "Epoch 13/25\n",
      "24/24 [==============================] - 0s 9ms/step - loss: 0.1021 - accuracy: 0.9599 - val_loss: 0.0748 - val_accuracy: 0.9681\n",
      "Epoch 14/25\n",
      "24/24 [==============================] - 0s 7ms/step - loss: 0.1061 - accuracy: 0.9653 - val_loss: 0.0714 - val_accuracy: 0.9734\n",
      "Epoch 15/25\n",
      "24/24 [==============================] - 0s 5ms/step - loss: 0.0936 - accuracy: 0.9666 - val_loss: 0.0756 - val_accuracy: 0.9840\n",
      "Epoch 16/25\n",
      "24/24 [==============================] - 0s 5ms/step - loss: 0.0958 - accuracy: 0.9746 - val_loss: 0.0596 - val_accuracy: 0.9734\n",
      "Epoch 17/25\n",
      "24/24 [==============================] - 0s 5ms/step - loss: 0.0937 - accuracy: 0.9746 - val_loss: 0.0657 - val_accuracy: 0.9840\n",
      "Epoch 18/25\n",
      "24/24 [==============================] - 0s 5ms/step - loss: 0.0948 - accuracy: 0.9666 - val_loss: 0.1333 - val_accuracy: 0.9628\n",
      "Epoch 19/25\n",
      "24/24 [==============================] - 0s 5ms/step - loss: 0.0943 - accuracy: 0.9760 - val_loss: 0.0639 - val_accuracy: 0.9734\n",
      "Epoch 20/25\n",
      "24/24 [==============================] - 0s 5ms/step - loss: 0.0825 - accuracy: 0.9773 - val_loss: 0.0600 - val_accuracy: 0.9787\n",
      "Epoch 21/25\n",
      "24/24 [==============================] - 0s 5ms/step - loss: 0.0824 - accuracy: 0.9706 - val_loss: 0.0534 - val_accuracy: 0.9734\n",
      "Epoch 22/25\n",
      "24/24 [==============================] - 0s 5ms/step - loss: 0.0810 - accuracy: 0.9733 - val_loss: 0.0546 - val_accuracy: 0.9787\n",
      "Epoch 23/25\n",
      "24/24 [==============================] - 0s 5ms/step - loss: 0.0787 - accuracy: 0.9760 - val_loss: 0.0636 - val_accuracy: 0.9894\n",
      "Epoch 24/25\n",
      "24/24 [==============================] - 0s 5ms/step - loss: 0.0809 - accuracy: 0.9746 - val_loss: 0.0587 - val_accuracy: 0.9894\n",
      "Epoch 25/25\n",
      "24/24 [==============================] - 0s 5ms/step - loss: 0.0718 - accuracy: 0.9773 - val_loss: 0.0721 - val_accuracy: 0.9734\n"
     ]
    },
    {
     "data": {
      "text/plain": [
       "<keras.callbacks.History at 0x7f1973adfe90>"
      ]
     },
     "execution_count": 11,
     "metadata": {},
     "output_type": "execute_result"
    }
   ],
   "source": [
    "nn.compile(optimizer='adam',loss='binary_crossentropy',metrics='accuracy')\n",
    "nn.fit(xtrain, ytrain, validation_data = (xtest,ytest), batch_size=32,epochs=25)"
   ]
  },
  {
   "cell_type": "code",
   "execution_count": 12,
   "id": "2d5dea95",
   "metadata": {
    "execution": {
     "iopub.execute_input": "2022-12-13T13:02:24.754418Z",
     "iopub.status.busy": "2022-12-13T13:02:24.754004Z",
     "iopub.status.idle": "2022-12-13T13:02:25.023877Z",
     "shell.execute_reply": "2022-12-13T13:02:25.022716Z"
    },
    "papermill": {
     "duration": 0.286467,
     "end_time": "2022-12-13T13:02:25.026648",
     "exception": false,
     "start_time": "2022-12-13T13:02:24.740181",
     "status": "completed"
    },
    "tags": []
   },
   "outputs": [],
   "source": [
    "tr_pred = nn.predict(xtrain)\n",
    "ts_pred = nn.predict(xtest)"
   ]
  },
  {
   "cell_type": "code",
   "execution_count": 13,
   "id": "25144387",
   "metadata": {
    "execution": {
     "iopub.execute_input": "2022-12-13T13:02:25.053463Z",
     "iopub.status.busy": "2022-12-13T13:02:25.053047Z",
     "iopub.status.idle": "2022-12-13T13:02:25.059956Z",
     "shell.execute_reply": "2022-12-13T13:02:25.058895Z"
    },
    "papermill": {
     "duration": 0.022993,
     "end_time": "2022-12-13T13:02:25.062088",
     "exception": false,
     "start_time": "2022-12-13T13:02:25.039095",
     "status": "completed"
    },
    "tags": []
   },
   "outputs": [],
   "source": [
    "tr_predclass = []\n",
    "for i in tr_pred:\n",
    "    if i>0.5:\n",
    "        tr_predclass.append(1)\n",
    "    else:\n",
    "        tr_predclass.append(0)"
   ]
  },
  {
   "cell_type": "code",
   "execution_count": 14,
   "id": "873b9282",
   "metadata": {
    "execution": {
     "iopub.execute_input": "2022-12-13T13:02:25.088801Z",
     "iopub.status.busy": "2022-12-13T13:02:25.087675Z",
     "iopub.status.idle": "2022-12-13T13:02:25.093740Z",
     "shell.execute_reply": "2022-12-13T13:02:25.092661Z"
    },
    "papermill": {
     "duration": 0.021778,
     "end_time": "2022-12-13T13:02:25.096093",
     "exception": false,
     "start_time": "2022-12-13T13:02:25.074315",
     "status": "completed"
    },
    "tags": []
   },
   "outputs": [],
   "source": [
    "ts_predclass = []\n",
    "for i in ts_pred:\n",
    "    if i>0.5:\n",
    "        ts_predclass.append(1)\n",
    "    else:\n",
    "        ts_predclass.append(0)"
   ]
  },
  {
   "cell_type": "code",
   "execution_count": 15,
   "id": "902a634a",
   "metadata": {
    "execution": {
     "iopub.execute_input": "2022-12-13T13:02:25.123327Z",
     "iopub.status.busy": "2022-12-13T13:02:25.122468Z",
     "iopub.status.idle": "2022-12-13T13:02:25.131323Z",
     "shell.execute_reply": "2022-12-13T13:02:25.130065Z"
    },
    "papermill": {
     "duration": 0.024986,
     "end_time": "2022-12-13T13:02:25.133693",
     "exception": false,
     "start_time": "2022-12-13T13:02:25.108707",
     "status": "completed"
    },
    "tags": []
   },
   "outputs": [
    {
     "name": "stdout",
     "output_type": "stream",
     "text": [
      "Training accuracy is :  0.975968\n",
      "Testing accuracy is  :  0.973404\n"
     ]
    }
   ],
   "source": [
    "from sklearn.metrics import accuracy_score\n",
    "tr_acc = accuracy_score(ytrain,tr_predclass)\n",
    "ts_acc = accuracy_score(ytest,ts_predclass)\n",
    "print('Training accuracy is : ',round(tr_acc,6))\n",
    "print('Testing accuracy is  : ',round(ts_acc,6))"
   ]
  },
  {
   "cell_type": "code",
   "execution_count": 16,
   "id": "1cbad7d5",
   "metadata": {
    "execution": {
     "iopub.execute_input": "2022-12-13T13:02:25.160038Z",
     "iopub.status.busy": "2022-12-13T13:02:25.159641Z",
     "iopub.status.idle": "2022-12-13T13:02:25.170972Z",
     "shell.execute_reply": "2022-12-13T13:02:25.169573Z"
    },
    "papermill": {
     "duration": 0.027479,
     "end_time": "2022-12-13T13:02:25.173443",
     "exception": false,
     "start_time": "2022-12-13T13:02:25.145964",
     "status": "completed"
    },
    "tags": []
   },
   "outputs": [
    {
     "name": "stdout",
     "output_type": "stream",
     "text": [
      "              precision    recall  f1-score   support\n",
      "\n",
      "           0       0.99      0.98      0.99       180\n",
      "           1       0.64      0.88      0.74         8\n",
      "\n",
      "    accuracy                           0.97       188\n",
      "   macro avg       0.82      0.93      0.86       188\n",
      "weighted avg       0.98      0.97      0.98       188\n",
      "\n"
     ]
    }
   ],
   "source": [
    "from sklearn.metrics import classification_report\n",
    "cr = classification_report(ytest,ts_predclass)\n",
    "print(cr)"
   ]
  },
  {
   "cell_type": "code",
   "execution_count": 17,
   "id": "dc2cd515",
   "metadata": {
    "execution": {
     "iopub.execute_input": "2022-12-13T13:02:25.200897Z",
     "iopub.status.busy": "2022-12-13T13:02:25.200459Z",
     "iopub.status.idle": "2022-12-13T13:02:25.655937Z",
     "shell.execute_reply": "2022-12-13T13:02:25.654700Z"
    },
    "papermill": {
     "duration": 0.472485,
     "end_time": "2022-12-13T13:02:25.658469",
     "exception": false,
     "start_time": "2022-12-13T13:02:25.185984",
     "status": "completed"
    },
    "tags": []
   },
   "outputs": [
    {
     "data": {
      "text/plain": [
       "<AxesSubplot:>"
      ]
     },
     "execution_count": 17,
     "metadata": {},
     "output_type": "execute_result"
    },
    {
     "data": {
      "image/png": "[encoded data removed]",
      "text/plain": [
       "<Figure size 432x288 with 2 Axes>"
      ]
     },
     "metadata": {
      "needs_background": "light"
     },
     "output_type": "display_data"
    }
   ],
   "source": [
    "from sklearn.metrics import confusion_matrix\n",
    "cf = confusion_matrix(ytest,ts_predclass)\n",
    "import seaborn as sb\n",
    "sb.heatmap(cf,annot=True)"
   ]
  },
  {
   "cell_type": "code",
   "execution_count": null,
   "id": "a41ffa2c",
   "metadata": {
    "papermill": {
     "duration": 0.012144,
     "end_time": "2022-12-13T13:02:25.683254",
     "exception": false,
     "start_time": "2022-12-13T13:02:25.671110",
     "status": "completed"
    },
    "tags": []
   },
   "outputs": [],
   "source": []
  }
 ],
 "metadata": {
  "kernelspec": {
   "display_name": "Python 3 (ipykernel)",
   "language": "python",
   "name": "python3"
  },
  "language_info": {
   "codemirror_mode": {
    "name": "ipython",
    "version": 3
   },
   "file_extension": ".py",
   "mimetype": "text/x-python",
   "name": "python",
   "nbconvert_exporter": "python",
   "pygments_lexer": "ipython3",
   "version": "3.9.12"
  },
  "papermill": {
   "default_parameters": {},
   "duration": 25.150496,
   "end_time": "2022-12-13T13:02:29.169716",
   "environment_variables": {},
   "exception": null,
   "input_path": "__notebook__.ipynb",
   "output_path": "__notebook__.ipynb",
   "parameters": {},
   "start_time": "2022-12-13T13:02:04.019220",
   "version": "2.3.4"
  }
 },
 "nbformat": 4,
 "nbformat_minor": 5
}
